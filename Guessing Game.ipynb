{
  "nbformat": 4,
  "nbformat_minor": 0,
  "metadata": {
    "colab": {
      "name": "Untitled2.ipynb",
      "provenance": [],
      "authorship_tag": "ABX9TyO9ktD4et99G8Rdw8buYLaX",
      "include_colab_link": true
    },
    "kernelspec": {
      "name": "python3",
      "display_name": "Python 3"
    }
  },
  "cells": [
    {
      "cell_type": "markdown",
      "metadata": {
        "id": "view-in-github",
        "colab_type": "text"
      },
      "source": [
        "<a href=\"https://colab.research.google.com/github/Shamaun-Nabi/python-code-practice/blob/main/Guessing%20Game.ipynb\" target=\"_parent\"><img src=\"https://colab.research.google.com/assets/colab-badge.svg\" alt=\"Open In Colab\"/></a>"
      ]
    },
    {
      "cell_type": "code",
      "metadata": {
        "colab": {
          "base_uri": "https://localhost:8080/"
        },
        "id": "C9YAMAX0sbVI",
        "outputId": "3a6294e4-6790-4a1a-8a2a-2f8f87832a8a"
      },
      "source": [
        "import random\r\n",
        "luck_count=int(input(\"How many Times You want to check Your Luck ?? \"))\r\n",
        "for x in range(1,luck_count+1):\r\n",
        "    user_input=int(input(\"Enter Your Number Between 1 to 5 \"))\r\n",
        "    random_genarate=random.randint(1,5)\r\n",
        "    if random_genarate==user_input:\r\n",
        "        print(\"!!You won !!!\")\r\n",
        "    else:\r\n",
        "        print(\"random number is \",random_genarate)\r\n",
        "        print(\"You Lose\")"
      ],
      "execution_count": 2,
      "outputs": [
        {
          "output_type": "stream",
          "text": [
            "How many Times You want to check Your Luck ?? 4\n",
            "Enter Your Number Betwwen 1 to 5 1\n",
            "!!You won !!!\n",
            "Enter Your Number Betwwen 1 to 5 2\n",
            "!!You won !!!\n",
            "Enter Your Number Betwwen 1 to 5 3\n",
            "random number is  1\n",
            "You Lose\n",
            "Enter Your Number Betwwen 1 to 5 4\n",
            "random number is  2\n",
            "You Lose\n"
          ],
          "name": "stdout"
        }
      ]
    }
  ]
}
