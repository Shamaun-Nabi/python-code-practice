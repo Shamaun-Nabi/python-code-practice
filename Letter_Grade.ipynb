{
  "nbformat": 4,
  "nbformat_minor": 0,
  "metadata": {
    "colab": {
      "name": "Letter Grade.ipynb",
      "provenance": [],
      "authorship_tag": "ABX9TyNFCu4gO3NgvQCswzdPM32Q",
      "include_colab_link": true
    },
    "kernelspec": {
      "name": "python3",
      "display_name": "Python 3"
    }
  },
  "cells": [
    {
      "cell_type": "markdown",
      "metadata": {
        "id": "view-in-github",
        "colab_type": "text"
      },
      "source": [
        "<a href=\"https://colab.research.google.com/github/Shamaun-Nabi/pythone-code-practice/blob/main/Letter_Grade.ipynb\" target=\"_parent\"><img src=\"https://colab.research.google.com/assets/colab-badge.svg\" alt=\"Open In Colab\"/></a>"
      ]
    },
    {
      "cell_type": "markdown",
      "metadata": {
        "id": "5-bY5H76Rzje"
      },
      "source": [
        "Letter Grade Probleb With Python"
      ]
    },
    {
      "cell_type": "code",
      "metadata": {
        "colab": {
          "base_uri": "https://localhost:8080/"
        },
        "id": "utwwt3BAR70G",
        "outputId": "700397cb-b07d-4a66-bcfa-1bb4e93f3523"
      },
      "source": [
        "grade=int(input(\"Enter Grade Number to check Your Result\"))\r\n",
        "if grade>=80 and grade<=100 :\r\n",
        "  print(\"A+\")\r\n",
        "elif grade>=70 and grade<=79 :\r\n",
        "  print(\"A\")\r\n",
        "elif grade>=60 and grade<=59 :\r\n",
        "  print(\"A-\")\r\n",
        "elif grade>=50 and grade<=49 :\r\n",
        "  print(\"B\")\r\n",
        "else :\r\n",
        "  print(\"fail\")"
      ],
      "execution_count": 1,
      "outputs": [
        {
          "output_type": "stream",
          "text": [
            "Enter Grade Number to check Your Result48\n",
            "fail\n"
          ],
          "name": "stdout"
        }
      ]
    }
  ]
}